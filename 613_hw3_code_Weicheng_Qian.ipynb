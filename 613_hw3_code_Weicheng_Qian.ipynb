{
 "cells": [
  {
   "cell_type": "code",
   "execution_count": 67,
   "metadata": {},
   "outputs": [],
   "source": [
    "import torch\n",
    "import torch.nn as nn\n",
    "import matplotlib.pyplot as plt\n",
    "import numpy as np\n",
    "import torch.optim\n",
    "from torch.autograd import Variable\n",
    "import random\n",
    "dtype = torch.FloatTensor"
   ]
  },
  {
   "cell_type": "code",
   "execution_count": 68,
   "metadata": {},
   "outputs": [],
   "source": [
    "class Normalization(nn.Module):\n",
    "    def __init__(self, pgamma = 'T'):\n",
    "        self.pgamma = pgamma\n",
    "        super(Normalization, self).__init__()\n",
    "        self.gamma = nn.Parameter(torch.ones(1))\n",
    "        self.beta = nn.Parameter(torch.zeros(1))\n",
    "    def forward(self, x):\n",
    "        xx = Variable(torch.zeros(x.shape)).type(dtype)\n",
    "        if self.pgamma == 'T':\n",
    "            xx = (x - torch.mean(x))/torch.sqrt(torch.var(x) + 0.01)*self.gamma + self.beta\n",
    "        elif self.pgamma == 'F': #set gamma=1\n",
    "            xx = (x - torch.mean(x))/torch.sqrt(torch.var(x) + 0.01) + self.beta\n",
    "        return xx"
   ]
  },
  {
   "cell_type": "code",
   "execution_count": 69,
   "metadata": {},
   "outputs": [],
   "source": [
    "class ConvNet(nn.Module):\n",
    "    def __init__(self):\n",
    "        super(ConvNet, self).__init__()\n",
    "        self.model = nn.Sequential()\n",
    "        for i in range(9):\n",
    "            conv_name='Conv1d'+str(i+1)\n",
    "            ac_name='ReLu'+str(i+1)\n",
    "            nor_name='Nor'+str(i+1)\n",
    "            \n",
    "            self.model.add_module(conv_name,nn.Conv1d(1, 1, kernel_size=15,padding=14, stride=1, bias=False,padding_mode='circular'))\n",
    "            self.model.add_module(ac_name,nn.ReLU()) #activation functions\n",
    "            self.model.add_module(nor_name, Normalization(pgamma='T')) #normalization layers\n",
    "        self.model.add_module('Conv1d_10',nn.Conv1d(1, 1, kernel_size=15,padding=14, stride=1,  bias=True,padding_mode='circular'))\n",
    "        \n",
    "    def forward(self, x):\n",
    "        out = self.model(x)\n",
    "        return out"
   ]
  },
  {
   "cell_type": "code",
   "execution_count": 70,
   "metadata": {
    "scrolled": true
   },
   "outputs": [
    {
     "data": {
      "text/plain": [
       "[<matplotlib.lines.Line2D at 0x24e680195c8>]"
      ]
     },
     "execution_count": 70,
     "metadata": {},
     "output_type": "execute_result"
    },
    {
     "data": {
      "image/png": "[encoded data removed]",
      "text/plain": [
       "<Figure size 432x288 with 1 Axes>"
      ]
     },
     "metadata": {
      "needs_background": "light"
     },
     "output_type": "display_data"
    }
   ],
   "source": [
    "torch.manual_seed(0)\n",
    "inp = torch.rand(1,1,64)\n",
    "outp = torch.rand(1,1,64)\n",
    "learning_rate = 0.1\n",
    "learning_rate_low = 0.01\n",
    "loss_list = []\n",
    "\n",
    "model = ConvNet()\n",
    "\n",
    "# Loss and optimizer\n",
    "criterion = nn.MSELoss()\n",
    "optimizer = torch.optim.SGD(model.parameters(), lr=learning_rate)\n",
    "optimizer_low = torch.optim.SGD(model.parameters(), lr=learning_rate_low)\n",
    "\n",
    "for epoch in range(6000):\n",
    "    outputs = model(inp)\n",
    "    loss = criterion(outputs, outp)\n",
    "    loss_list.append(loss.item())\n",
    "\n",
    "        # Backprop and perform Adam optimisation\n",
    "    if epoch < 2000:\n",
    "        optimizer.zero_grad()\n",
    "        loss.backward()\n",
    "        optimizer.step()\n",
    "    else:\n",
    "        optimizer_low.zero_grad()\n",
    "        loss.backward()\n",
    "        optimizer_low.step()\n",
    "    \n",
    "plt.plot(loss_list)"
   ]
  },
  {
   "cell_type": "code",
   "execution_count": 71,
   "metadata": {},
   "outputs": [
    {
     "data": {
      "text/plain": [
       "0.00299622118473053"
      ]
     },
     "execution_count": 71,
     "metadata": {},
     "output_type": "execute_result"
    }
   ],
   "source": [
    "loss_list[-1]"
   ]
  },
  {
   "cell_type": "code",
   "execution_count": 72,
   "metadata": {},
   "outputs": [
    {
     "data": {
      "text/plain": [
       "[<matplotlib.lines.Line2D at 0x24e67fc8688>]"
      ]
     },
     "execution_count": 72,
     "metadata": {},
     "output_type": "execute_result"
    },
    {
     "data": {
      "image/png": "[encoded data removed]",
      "text/plain": [
       "<Figure size 432x288 with 1 Axes>"
      ]
     },
     "metadata": {
      "needs_background": "light"
     },
     "output_type": "display_data"
    }
   ],
   "source": [
    "plt.semilogy(loss_list)"
   ]
  },
  {
   "cell_type": "code",
   "execution_count": null,
   "metadata": {},
   "outputs": [],
   "source": []
  },
  {
   "cell_type": "code",
   "execution_count": null,
   "metadata": {},
   "outputs": [],
   "source": []
  },
  {
   "cell_type": "code",
   "execution_count": null,
   "metadata": {},
   "outputs": [],
   "source": []
  }
 ],
 "metadata": {
  "kernelspec": {
   "display_name": "Python 3",
   "language": "python",
   "name": "python3"
  },
  "language_info": {
   "codemirror_mode": {
    "name": "ipython",
    "version": 3
   },
   "file_extension": ".py",
   "mimetype": "text/x-python",
   "name": "python",
   "nbconvert_exporter": "python",
   "pygments_lexer": "ipython3",
   "version": "3.7.6"
  }
 },
 "nbformat": 4,
 "nbformat_minor": 4
}
